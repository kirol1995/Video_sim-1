{
 "cells": [
  {
   "cell_type": "code",
   "execution_count": null,
   "source": [
    "import tensorflow as tf\n",
    "from model_mlm import BERTforMaskedLM\n",
    "from config import parser"
   ],
   "outputs": [],
   "metadata": {}
  },
  {
   "cell_type": "code",
   "execution_count": null,
   "source": [
    "args = parser.parse_args()\n",
    "model = BERTforMaskedLM(args)\n",
    "    # 3. save checkpoints\n",
    "checkpoint = tf.train.Checkpoint(model=model, step=tf.Variable(0))\n",
    "restored_ckpt = 'save/mlm/ckpt-40000'\n",
    "checkpoint.restore(restored_ckpt)"
   ],
   "outputs": [],
   "metadata": {}
  }
 ],
 "metadata": {
  "orig_nbformat": 4,
  "language_info": {
   "name": "python"
  }
 },
 "nbformat": 4,
 "nbformat_minor": 2
}