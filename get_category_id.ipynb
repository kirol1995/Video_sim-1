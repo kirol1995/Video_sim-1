{
 "cells": [
  {
   "cell_type": "code",
   "execution_count": 1,
   "source": [
    "import tensorflow as tf\r\n",
    "\r\n",
    "\r\n",
    "feature_description = { # 定义Feature结构，告诉解码器每个Feature的类型是什么\r\n",
    "    'id': tf.io.FixedLenFeature([], tf.string),\r\n",
    "    'tag_id': tf.io.VarLenFeature(tf.int64),\r\n",
    "    'category_id': tf.io.FixedLenFeature([], tf.int64),\r\n",
    "    'title': tf.io.FixedLenFeature([], tf.string),\r\n",
    "    'asr_text': tf.io.FixedLenFeature([], tf.string),\r\n",
    "    'frame_feature': tf.io.VarLenFeature(tf.string)\r\n",
    "}\r\n",
    "\r\n",
    "\r\n",
    "def read_and_decode(example_string):\r\n",
    "    '''\r\n",
    "    从TFrecord格式文件中读取数据 train\r\n",
    "    '''\r\n",
    "    feature_dict = tf.io.parse_single_example(example_string, feature_description)\r\n",
    "    # frame_feature = tf.sparse.to_dense(feature_dict['frame_feature']).numpy()\r\n",
    "    # title = feature_dict['title'].numpy()\r\n",
    "    # asr_text = feature_dict['asr_text'].numpy()\r\n",
    "    # id = feature_dict['id'].numpy()\r\n",
    "    # tag_id = tf.sparse.to_dense(feature_dict['tag_id']).numpy()\r\n",
    "    category_id = feature_dict['category_id'].numpy()\r\n",
    "\r\n",
    "\r\n",
    "    return category_id#id, tag_id, category_id, title, asr_text\r\n",
    "\r\n",
    "import glob\r\n",
    "def get_all_data(path): # 'data/pairwise'\r\n",
    "    # filenames = glob.glob(path)\r\n",
    "    # print(filenames)\r\n",
    "    dataset = tf.data.TFRecordDataset(path)\r\n",
    "    # datas = {}\r\n",
    "    category_ids = []\r\n",
    "    for i, data in enumerate(dataset):\r\n",
    "        category_id = read_and_decode(data)\r\n",
    "        category_ids.append(category_id)\r\n",
    "        # id = id.decode()\r\n",
    "        # datas[id] = {'tag_id': tag_id, 'category_id': category_id, 'title': title, 'asr_text': asr_text}\r\n",
    "\r\n",
    "    return category_ids  \r\n",
    "\r\n",
    "tfrecords = glob.glob('data/pointwise/*.tfrecords')+['data/pairwise/pairwise.tfrecords']\r\n",
    "category_ids = get_all_data(tfrecords)"
   ],
   "outputs": [],
   "metadata": {}
  },
  {
   "cell_type": "code",
   "execution_count": 6,
   "source": [
    "len(category_ids)\r\n",
    "category_ids_unique = list(set(category_ids))"
   ],
   "outputs": [],
   "metadata": {}
  },
  {
   "cell_type": "markdown",
   "source": [
    "40个一级类目，100-140，没有138、139\r\n",
    "23个二级类目，0-22"
   ],
   "metadata": {}
  },
  {
   "cell_type": "code",
   "execution_count": 8,
   "source": [
    "ids_1 = {}\r\n",
    "ids_2 = {}\r\n",
    "for i in category_ids_unique:\r\n",
    "    id1 = int(i/100)\r\n",
    "    id2 = i%100\r\n",
    "    if id1 not in ids_1:\r\n",
    "        ids_1[id1] = 1\r\n",
    "    else:\r\n",
    "         ids_1[id1] += 1\r\n",
    "    if id2 not in ids_2:\r\n",
    "        ids_2[id2] = 1\r\n",
    "    else:\r\n",
    "         ids_2[id2] += 1"
   ],
   "outputs": [],
   "metadata": {}
  },
  {
   "cell_type": "code",
   "execution_count": 9,
   "source": [
    "ids_1_list = list(ids_1)\r\n",
    "ids_2_list = list(ids_2)"
   ],
   "outputs": [],
   "metadata": {}
  },
  {
   "cell_type": "code",
   "execution_count": 15,
   "source": [
    "ids_2_list.sort()"
   ],
   "outputs": [],
   "metadata": {}
  },
  {
   "cell_type": "code",
   "execution_count": 16,
   "source": [
    "len(ids_2_list)"
   ],
   "outputs": [
    {
     "output_type": "execute_result",
     "data": {
      "text/plain": [
       "23"
      ]
     },
     "metadata": {},
     "execution_count": 16
    }
   ],
   "metadata": {}
  },
  {
   "cell_type": "code",
   "execution_count": 17,
   "source": [
    "ids_2_list"
   ],
   "outputs": [
    {
     "output_type": "execute_result",
     "data": {
      "text/plain": [
       "[0,\n",
       " 1,\n",
       " 2,\n",
       " 3,\n",
       " 4,\n",
       " 5,\n",
       " 6,\n",
       " 7,\n",
       " 8,\n",
       " 9,\n",
       " 10,\n",
       " 11,\n",
       " 12,\n",
       " 13,\n",
       " 14,\n",
       " 15,\n",
       " 16,\n",
       " 17,\n",
       " 18,\n",
       " 19,\n",
       " 20,\n",
       " 21,\n",
       " 22]"
      ]
     },
     "metadata": {},
     "execution_count": 17
    }
   ],
   "metadata": {}
  }
 ],
 "metadata": {
  "orig_nbformat": 4,
  "language_info": {
   "name": "python",
   "version": "3.7.7",
   "mimetype": "text/x-python",
   "codemirror_mode": {
    "name": "ipython",
    "version": 3
   },
   "pygments_lexer": "ipython3",
   "nbconvert_exporter": "python",
   "file_extension": ".py"
  },
  "kernelspec": {
   "name": "python3",
   "display_name": "Python 3.7.7 64-bit ('tf2': conda)"
  },
  "interpreter": {
   "hash": "0b763893c5a0ab4a9d687dc489be7391bc321afd58f24791d0d0ca036456de32"
  }
 },
 "nbformat": 4,
 "nbformat_minor": 2
}